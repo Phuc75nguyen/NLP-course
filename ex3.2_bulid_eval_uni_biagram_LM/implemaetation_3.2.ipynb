{
 "cells": [
  {
   "cell_type": "code",
   "execution_count": 25,
   "metadata": {},
   "outputs": [
    {
     "name": "stderr",
     "output_type": "stream",
     "text": [
      "[nltk_data] Downloading package punkt_tab to\n",
      "[nltk_data]     C:\\Users\\Admin\\AppData\\Roaming\\nltk_data...\n",
      "[nltk_data]   Package punkt_tab is already up-to-date!\n"
     ]
    },
    {
     "data": {
      "text/plain": [
       "True"
      ]
     },
     "execution_count": 25,
     "metadata": {},
     "output_type": "execute_result"
    }
   ],
   "source": [
    "import re\n",
    "from collections import defaultdict as dd, Counter\n",
    "from nltk.util import bigrams\n",
    "import nltk\n",
    "from sklearn.model_selection import train_test_split as tts\n",
    "import math\n",
    "nltk.download('punkt_tab')"
   ]
  },
  {
   "cell_type": "code",
   "execution_count": 26,
   "metadata": {},
   "outputs": [],
   "source": [
    "\n",
    "with open('transcript.txt', 'r') as f:\n",
    "  transcript = [re.split(r'(\\d+\\w\\d\\w\\d+)', l)[-1].strip() for l in f.readlines()]"
   ]
  },
  {
   "cell_type": "code",
   "execution_count": 27,
   "metadata": {},
   "outputs": [],
   "source": [
    "\n",
    "# divide data 80 : 20\n",
    "train_transcript, test_transcipt =  tts(transcript, test_size=0.2, random_state=42)\n"
   ]
  },
  {
   "cell_type": "code",
   "execution_count": 28,
   "metadata": {},
   "outputs": [],
   "source": [
    "# replace low frequency word with <UNK> in train set\n",
    "word_counter = Counter()\n",
    "for sentence in train_transcript:\n",
    "  tokens = nltk.word_tokenize(sentence)\n",
    "  word_counter.update(tokens)\n",
    "\n",
    "threshold = 10\n",
    "\n",
    "def replace_word_with_unk(tokens, threshold, word_counter):\n",
    "  return [token if word_counter[token] > threshold else '<unk>' for token in tokens]\n",
    "\n",
    "sentences_with_unk = []\n",
    "for sentence in train_transcript:\n",
    "  tokens = nltk.word_tokenize(sentence)\n",
    "  sentences_with_unk.append(replace_word_with_unk(tokens, threshold, word_counter))"
   ]
  },
  {
   "cell_type": "code",
   "execution_count": 29,
   "metadata": {},
   "outputs": [],
   "source": [
    "# build bigram, unigram table\n",
    "bigram_model = dd(lambda: dd(lambda: 0))\n",
    "unigram_model = dd(lambda: 0)\n",
    "total_token = 0\n",
    "\n",
    "for sentence in sentences_with_unk:\n",
    "  # bigram\n",
    "  for w1, w2 in bigrams(sentence, pad_right=True, pad_left=True):\n",
    "    bigram_model[w1][w2] += 1\n",
    "  # unigram\n",
    "  for w in sentence:\n",
    "    unigram_model[w] += 1\n",
    "    total_token += 1\n"
   ]
  },
  {
   "cell_type": "code",
   "execution_count": 30,
   "metadata": {},
   "outputs": [],
   "source": [
    "# normalize\n",
    "for w in unigram_model.keys():\n",
    "  unigram_model[w] /= total_token \n",
    "\n",
    "for w1 in bigram_model:\n",
    "  total_count = sum(bigram_model[w1].values())\n",
    "  for w2 in bigram_model[w1]: \n",
    "    bigram_model[w1][w2] /= total_count"
   ]
  },
  {
   "cell_type": "code",
   "execution_count": 31,
   "metadata": {},
   "outputs": [],
   "source": [
    "# replace unknown word in test set with <unk>\n",
    "test_sentence_with_unk = []\n",
    "\n",
    "for sentence in test_transcipt:\n",
    "  tokens = nltk.word_tokenize(sentence)\n",
    "  test_sentence_with_unk.append(replace_word_with_unk(tokens, threshold, word_counter))"
   ]
  },
  {
   "cell_type": "code",
   "execution_count": 32,
   "metadata": {},
   "outputs": [],
   "source": [
    "\n",
    "# evaluate function (log perplexity)\n",
    "def cal_perplexity_bigram(test_sentence, bigram_model_):\n",
    "  prob = 0\n",
    "  for w1, w2 in bigrams(test_sentence, pad_right=True, pad_left=True):\n",
    "    if bigram_model_[w1][w2] > 0:\n",
    "      prob += math.log(bigram_model_[w1][w2])\n",
    "  return math.exp(-(prob / len(test_sentence))) # perplexity\n",
    "\n",
    "def cal_perplexity_unigram(test_sentence, unigram_model_):\n",
    "  prob = 0\n",
    "  for w in test_sentence:\n",
    "    if unigram_model_[w] > 0:\n",
    "      prob += math.log(unigram_model_[w])\n",
    "  return math.exp(-(prob / len(test_sentence)))"
   ]
  },
  {
   "cell_type": "code",
   "execution_count": 33,
   "metadata": {},
   "outputs": [],
   "source": [
    "bigram_perplexity = sum(map(lambda x : math.log(x), [cal_perplexity_bigram(sentence, bigram_model) for sentence in test_sentence_with_unk]))\n",
    "unigram_perplexity = sum(map(lambda x : math.log(x), [cal_perplexity_unigram(sentence, unigram_model) for sentence in test_sentence_with_unk]))\n",
    "\n"
   ]
  },
  {
   "cell_type": "code",
   "execution_count": 34,
   "metadata": {},
   "outputs": [
    {
     "name": "stdout",
     "output_type": "stream",
     "text": [
      "The Unigram perplexity is :  8383.284551889115\n"
     ]
    }
   ],
   "source": [
    "print(\"The Unigram perplexity is : \", unigram_perplexity)"
   ]
  },
  {
   "cell_type": "code",
   "execution_count": 35,
   "metadata": {},
   "outputs": [
    {
     "name": "stdout",
     "output_type": "stream",
     "text": [
      "The Bigram perplexity is:  4773.931733399603\n"
     ]
    }
   ],
   "source": [
    "print(\"The Bigram perplexity is: \", bigram_perplexity)"
   ]
  }
 ],
 "metadata": {
  "kernelspec": {
   "display_name": "base",
   "language": "python",
   "name": "python3"
  },
  "language_info": {
   "codemirror_mode": {
    "name": "ipython",
    "version": 3
   },
   "file_extension": ".py",
   "mimetype": "text/x-python",
   "name": "python",
   "nbconvert_exporter": "python",
   "pygments_lexer": "ipython3",
   "version": "3.12.4"
  }
 },
 "nbformat": 4,
 "nbformat_minor": 2
}
