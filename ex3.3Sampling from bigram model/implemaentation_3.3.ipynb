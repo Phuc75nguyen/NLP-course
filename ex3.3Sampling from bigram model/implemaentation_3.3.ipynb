{
 "cells": [
  {
   "cell_type": "code",
   "execution_count": 2,
   "metadata": {},
   "outputs": [
    {
     "name": "stderr",
     "output_type": "stream",
     "text": [
      "[nltk_data] Downloading package punkt_tab to\n",
      "[nltk_data]     C:\\Users\\Admin\\AppData\\Roaming\\nltk_data...\n",
      "[nltk_data]   Package punkt_tab is already up-to-date!\n"
     ]
    },
    {
     "data": {
      "text/plain": [
       "True"
      ]
     },
     "execution_count": 2,
     "metadata": {},
     "output_type": "execute_result"
    }
   ],
   "source": [
    "import re\n",
    "from collections import defaultdict as dd, Counter\n",
    "from nltk.util import bigrams\n",
    "import nltk\n",
    "from sklearn.model_selection import train_test_split as tts\n",
    "import random\n",
    "nltk.download('punkt_tab')"
   ]
  },
  {
   "cell_type": "code",
   "execution_count": 3,
   "metadata": {},
   "outputs": [],
   "source": [
    "\n",
    "with open('transcript.txt', 'r') as f:\n",
    "  transcript = [re.split(r'(\\d+\\w\\d\\w\\d+)', l)[-1].strip() for l in f.readlines()]"
   ]
  },
  {
   "cell_type": "code",
   "execution_count": 4,
   "metadata": {},
   "outputs": [],
   "source": [
    "\n",
    "# divide data 80 : 20\n",
    "train_transcript, test_transcipt =  tts(transcript, test_size=0.2, random_state=42)"
   ]
  },
  {
   "cell_type": "code",
   "execution_count": 5,
   "metadata": {},
   "outputs": [],
   "source": [
    "# replace low frequency word with <UNK> in train set\n",
    "word_counter = Counter()\n",
    "for sentence in train_transcript:\n",
    "  tokens = nltk.word_tokenize(sentence)\n",
    "  word_counter.update(tokens)\n",
    "\n",
    "threshold = 10"
   ]
  },
  {
   "cell_type": "code",
   "execution_count": 6,
   "metadata": {},
   "outputs": [],
   "source": [
    "\n",
    "def replace_word_with_unk(tokens, threshold, word_counter):\n",
    "  return [token if word_counter[token] > threshold else '<unk>' for token in tokens]\n",
    "\n",
    "sentences_with_unk = []\n",
    "for sentence in train_transcript:\n",
    "  tokens = nltk.word_tokenize(sentence)\n",
    "  sentences_with_unk.append(replace_word_with_unk(tokens, threshold, word_counter))"
   ]
  },
  {
   "cell_type": "code",
   "execution_count": 7,
   "metadata": {},
   "outputs": [],
   "source": [
    "\n",
    "# build bigram, unigram table\n",
    "bigram_model = dd(lambda: dd(lambda: 0))\n",
    "unigram_model = dd(lambda: 0)\n",
    "total_token = 0\n",
    "\n",
    "for sentence in sentences_with_unk:\n",
    "  # bigram\n",
    "  for w1, w2 in bigrams(sentence, pad_right=True, pad_left=True):\n",
    "    bigram_model[w1][w2] += 1\n",
    "  # unigram\n",
    "  for w in sentence:\n",
    "    unigram_model[w] += 1\n",
    "    total_token += 1\n",
    "\n",
    "# normalize\n",
    "for w in unigram_model.keys():\n",
    "  unigram_model[w] /= total_token \n",
    "\n",
    "for w1 in bigram_model:\n",
    "  total_count = sum(bigram_model[w1].values())\n",
    "  for w2 in bigram_model[w1]: \n",
    "    bigram_model[w1][w2] /= total_count\n"
   ]
  },
  {
   "cell_type": "code",
   "execution_count": 9,
   "metadata": {},
   "outputs": [
    {
     "name": "stdout",
     "output_type": "stream",
     "text": [
      " there is good place\n",
      " how about chez-panisse * * ethiopian * > <unk> and i wan na make a restaurant on sunday\n",
      " how about ten dollars\n",
      " okay i 'd like to eat . <unk> chinese food\n",
      " i 'd like some more than ten dollars\n"
     ]
    }
   ],
   "source": [
    "def generate_sentences(bigram_model_) -> str:\n",
    "  result = ''\n",
    "  word = None\n",
    "  while True:\n",
    "    # get next word base on current word\n",
    "    word = random.choices(list(bigram_model_[word].keys()), weights=list(bigram_model_[word].values()), k=1)[0]\n",
    "    result += ' ' + word if word != None else ''\n",
    "    # end sentences with None token\n",
    "    if word == None: break\n",
    "  return result\n",
    "\n",
    "# generate 5 sentences\n",
    "for i in range(5):\n",
    "  print(''.join(generate_sentences(bigram_model)))"
   ]
  }
 ],
 "metadata": {
  "kernelspec": {
   "display_name": "base",
   "language": "python",
   "name": "python3"
  },
  "language_info": {
   "codemirror_mode": {
    "name": "ipython",
    "version": 3
   },
   "file_extension": ".py",
   "mimetype": "text/x-python",
   "name": "python",
   "nbconvert_exporter": "python",
   "pygments_lexer": "ipython3",
   "version": "3.12.4"
  }
 },
 "nbformat": 4,
 "nbformat_minor": 2
}
